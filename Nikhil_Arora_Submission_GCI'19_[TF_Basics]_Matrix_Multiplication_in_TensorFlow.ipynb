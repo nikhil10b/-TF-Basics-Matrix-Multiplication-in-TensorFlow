{
  "nbformat": 4,
  "nbformat_minor": 0,
  "metadata": {
    "colab": {
      "name": "Nikhil Arora - Submission GCI'19- [TF Basics] Matrix Multiplication in TensorFlow",
      "provenance": []
    },
    "kernelspec": {
      "name": "python3",
      "display_name": "Python 3"
    }
  },
  "cells": [
    {
      "cell_type": "code",
      "metadata": {
        "id": "LtLuXrc9RSmF",
        "colab_type": "code",
        "colab": {}
      },
      "source": [
        "%tensorflow_version 2.x\n",
        "import tensorflow as tf"
      ],
      "execution_count": 0,
      "outputs": []
    },
    {
      "cell_type": "markdown",
      "metadata": {
        "id": "pil3DMbDRbws",
        "colab_type": "text"
      },
      "source": [
        "###Matrix Multiplication in TensorFlow "
      ]
    },
    {
      "cell_type": "code",
      "metadata": {
        "id": "prEXyqVwReK_",
        "colab_type": "code",
        "colab": {
          "base_uri": "https://localhost:8080/",
          "height": 34
        },
        "outputId": "4104dced-52df-4899-b703-e792e6ba9653"
      },
      "source": [
        "print(tf.__version__)"
      ],
      "execution_count": 9,
      "outputs": [
        {
          "output_type": "stream",
          "text": [
            "2.0.0\n"
          ],
          "name": "stdout"
        }
      ]
    },
    {
      "cell_type": "markdown",
      "metadata": {
        "id": "mUqCfoaeoF56",
        "colab_type": "text"
      },
      "source": [
        "mat_A : random normal distribution \n",
        "\n",
        "mat_B : truncated normal distribution\n",
        "\n"
      ]
    },
    {
      "cell_type": "code",
      "metadata": {
        "id": "0Ex-SjOVn1GB",
        "colab_type": "code",
        "colab": {}
      },
      "source": [
        "mat_A= tf.random.normal(shape=(2,3), mean=10,stddev=2)\n",
        "mat_B = tf.random.truncated_normal(shape=(3,5), mean=12, stddev=3)"
      ],
      "execution_count": 0,
      "outputs": []
    },
    {
      "cell_type": "code",
      "metadata": {
        "id": "fiJWVJTK1aLC",
        "colab_type": "code",
        "colab": {
          "base_uri": "https://localhost:8080/",
          "height": 136
        },
        "outputId": "419c1068-8873-460c-e1bc-792e066ccae8"
      },
      "source": [
        "print(mat_A)\n",
        "print(mat_B)"
      ],
      "execution_count": 11,
      "outputs": [
        {
          "output_type": "stream",
          "text": [
            "tf.Tensor(\n",
            "[[10.993943  8.320559 12.068962]\n",
            " [ 9.505297 11.37554  10.118107]], shape=(2, 3), dtype=float32)\n",
            "tf.Tensor(\n",
            "[[13.155802 14.156095 14.867334 10.181187 14.815641]\n",
            " [ 6.932066 11.482668  9.380983 11.0412    7.519198]\n",
            " [13.485396 12.294671 15.77387   9.886871 15.023266]], shape=(3, 5), dtype=float32)\n"
          ],
          "name": "stdout"
        }
      ]
    },
    {
      "cell_type": "code",
      "metadata": {
        "id": "2kbSt8OqoMny",
        "colab_type": "code",
        "colab": {}
      },
      "source": [
        "mat_C=tf.matmul(mat_A,mat_B)"
      ],
      "execution_count": 0,
      "outputs": []
    },
    {
      "cell_type": "code",
      "metadata": {
        "id": "Q54lH1TF1PVl",
        "colab_type": "code",
        "colab": {
          "base_uri": "https://localhost:8080/",
          "height": 68
        },
        "outputId": "24a9e8e3-a09e-45c8-f873-65060fd2f848"
      },
      "source": [
        "print(\"Result is :\",mat_C)"
      ],
      "execution_count": 13,
      "outputs": [
        {
          "output_type": "stream",
          "text": [
            "Result is : tf.Tensor(\n",
            "[[365.06754 399.55743 431.87988 323.1246  406.76147]\n",
            " [340.35248 389.57822 407.63388 322.41122 378.36902]], shape=(2, 5), dtype=float32)\n"
          ],
          "name": "stdout"
        }
      ]
    },
    {
      "cell_type": "code",
      "metadata": {
        "id": "4i0xVU5S1R5g",
        "colab_type": "code",
        "colab": {}
      },
      "source": [
        ""
      ],
      "execution_count": 0,
      "outputs": []
    }
  ]
}